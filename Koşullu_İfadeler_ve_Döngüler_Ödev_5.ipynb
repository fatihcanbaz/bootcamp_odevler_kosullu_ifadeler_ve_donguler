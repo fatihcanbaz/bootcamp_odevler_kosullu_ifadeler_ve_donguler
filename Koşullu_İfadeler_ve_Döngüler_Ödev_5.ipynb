{
 "cells": [
  {
   "cell_type": "code",
   "execution_count": 4,
   "metadata": {},
   "outputs": [
    {
     "name": "stdout",
     "output_type": "stream",
     "text": [
      "[4, 16, 36, 64, 100]\n",
      "[1, 27, 125, 343, 729]\n"
     ]
    }
   ],
   "source": [
    "tek_listesi = []\n",
    "çift_listesi = []\n",
    "liste = [çift_listesi.append(x**2) if x % 2 == 0 else tek_listesi.append(x**3) for x in range(1,11)]\n",
    "print(çift_listesi)\n",
    "print(tek_listesi)"
   ]
  }
 ],
 "metadata": {
  "kernelspec": {
   "display_name": "Python 3",
   "language": "python",
   "name": "python3"
  },
  "language_info": {
   "codemirror_mode": {
    "name": "ipython",
    "version": 3
   },
   "file_extension": ".py",
   "mimetype": "text/x-python",
   "name": "python",
   "nbconvert_exporter": "python",
   "pygments_lexer": "ipython3",
   "version": "3.7.4"
  }
 },
 "nbformat": 4,
 "nbformat_minor": 2
}
